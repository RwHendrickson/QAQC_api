{
 "cells": [
  {
   "cell_type": "code",
   "execution_count": 1,
   "id": "588cded6-baf7-439b-92fe-20f23c6a50a8",
   "metadata": {},
   "outputs": [],
   "source": [
    "import os\n",
    "import json\n",
    "import psycopg2\n",
    "from psycopg2 import sql, extras"
   ]
  },
  {
   "cell_type": "code",
   "execution_count": 2,
   "id": "d150e3ae-61d2-465f-a8ee-72699387e34c",
   "metadata": {},
   "outputs": [],
   "source": [
    "## Database Credentials\n",
    "\n",
    "cred_pth = os.path.join(os.getcwd(),'db_credentials_template.txt')\n",
    "\n",
    "with open(cred_pth, 'r') as f:\n",
    "    \n",
    "    creds = f.readlines()[0].rstrip('\\n').split(', ')\n",
    "\n",
    "pg_connection_dict = dict(zip(['dbname', 'user', 'password', 'port', 'host'], creds))"
   ]
  },
  {
   "cell_type": "code",
   "execution_count": 16,
   "id": "f437c704-1ea6-4076-8335-f1ff5206e04c",
   "metadata": {},
   "outputs": [
    {
     "name": "stdout",
     "output_type": "stream",
     "text": [
      "Please select your interpolation:\n",
      "\n",
      "PM2_5_Kriging\n",
      "\n",
      "And add one of these to the base url\n"
     ]
    }
   ],
   "source": [
    "interp_name = 'PM2_5_Kriging'\n",
    "\n",
    "print(f'Please select your interpolation:\\n\\n{interp_name}\\n\\nAnd add one of these to the base url')"
   ]
  },
  {
   "cell_type": "code",
   "execution_count": 17,
   "id": "00956c13-753e-4b09-90e9-13b316e4c886",
   "metadata": {},
   "outputs": [],
   "source": [
    "def f(interp_name=interp_name):\n",
    "        \n",
    "        conn = psycopg2.connect(**pg_connection_dict)\n",
    "\n",
    "        # Create json cursor\n",
    "        cur = conn.cursor(cursor_factory = extras.RealDictCursor)\n",
    "\n",
    "        # Get the example\n",
    "        cmd = f\"\"\"SELECT json_build_object(\n",
    "    'type', 'FeatureCollection',\n",
    "    'features', json_agg(ST_AsGeoJSON({interp_name}.*)::json)\n",
    "    ) FROM {interp_name};\"\"\"\n",
    "\n",
    "        # If want with CRS 'crs', json_build_object('type', 'name', properties', json_build_object( 'name', ST_SRID(>\n",
    "\n",
    "        cur.execute(cmd)\n",
    "        #  cur.execute('SELECT ST_ASGeoJSON(geom) FROM example')\n",
    "\n",
    "        conn.commit() # Committ command\n",
    "\n",
    "        geojson = json.loads(json.dumps(cur.fetchall()))[0][\"json_build_object\"]\n",
    "\n",
    "        # Close connection\n",
    "        cur.close()\n",
    "        conn.close()\n",
    "\n",
    "        return geojson"
   ]
  },
  {
   "cell_type": "code",
   "execution_count": 19,
   "id": "2e50a733-09c3-4819-bd70-f849f647ddc2",
   "metadata": {},
   "outputs": [
    {
     "ename": "OperationalError",
     "evalue": "connection to server at \"34.27.240.213\", port 5432 failed: Connection timed out\n\tIs the server running on that host and accepting TCP/IP connections?\n",
     "output_type": "error",
     "traceback": [
      "\u001b[0;31m---------------------------------------------------------------------------\u001b[0m",
      "\u001b[0;31mOperationalError\u001b[0m                          Traceback (most recent call last)",
      "Input \u001b[0;32mIn [19]\u001b[0m, in \u001b[0;36m<cell line: 1>\u001b[0;34m()\u001b[0m\n\u001b[0;32m----> 1\u001b[0m \u001b[43mf\u001b[49m\u001b[43m(\u001b[49m\u001b[43m)\u001b[49m\n",
      "Input \u001b[0;32mIn [17]\u001b[0m, in \u001b[0;36mf\u001b[0;34m(interp_name)\u001b[0m\n\u001b[1;32m      1\u001b[0m \u001b[38;5;28;01mdef\u001b[39;00m \u001b[38;5;21mf\u001b[39m(interp_name\u001b[38;5;241m=\u001b[39minterp_name):\n\u001b[0;32m----> 3\u001b[0m         conn \u001b[38;5;241m=\u001b[39m \u001b[43mpsycopg2\u001b[49m\u001b[38;5;241;43m.\u001b[39;49m\u001b[43mconnect\u001b[49m\u001b[43m(\u001b[49m\u001b[38;5;241;43m*\u001b[39;49m\u001b[38;5;241;43m*\u001b[39;49m\u001b[43mpg_connection_dict\u001b[49m\u001b[43m)\u001b[49m\n\u001b[1;32m      5\u001b[0m         \u001b[38;5;66;03m# Create json cursor\u001b[39;00m\n\u001b[1;32m      6\u001b[0m         cur \u001b[38;5;241m=\u001b[39m conn\u001b[38;5;241m.\u001b[39mcursor(cursor_factory \u001b[38;5;241m=\u001b[39m extras\u001b[38;5;241m.\u001b[39mRealDictCursor)\n",
      "File \u001b[0;32m~/miniconda3/envs/flaskserver/lib/python3.10/site-packages/psycopg2/__init__.py:122\u001b[0m, in \u001b[0;36mconnect\u001b[0;34m(dsn, connection_factory, cursor_factory, **kwargs)\u001b[0m\n\u001b[1;32m    119\u001b[0m     kwasync[\u001b[38;5;124m'\u001b[39m\u001b[38;5;124masync_\u001b[39m\u001b[38;5;124m'\u001b[39m] \u001b[38;5;241m=\u001b[39m kwargs\u001b[38;5;241m.\u001b[39mpop(\u001b[38;5;124m'\u001b[39m\u001b[38;5;124masync_\u001b[39m\u001b[38;5;124m'\u001b[39m)\n\u001b[1;32m    121\u001b[0m dsn \u001b[38;5;241m=\u001b[39m _ext\u001b[38;5;241m.\u001b[39mmake_dsn(dsn, \u001b[38;5;241m*\u001b[39m\u001b[38;5;241m*\u001b[39mkwargs)\n\u001b[0;32m--> 122\u001b[0m conn \u001b[38;5;241m=\u001b[39m \u001b[43m_connect\u001b[49m\u001b[43m(\u001b[49m\u001b[43mdsn\u001b[49m\u001b[43m,\u001b[49m\u001b[43m \u001b[49m\u001b[43mconnection_factory\u001b[49m\u001b[38;5;241;43m=\u001b[39;49m\u001b[43mconnection_factory\u001b[49m\u001b[43m,\u001b[49m\u001b[43m \u001b[49m\u001b[38;5;241;43m*\u001b[39;49m\u001b[38;5;241;43m*\u001b[39;49m\u001b[43mkwasync\u001b[49m\u001b[43m)\u001b[49m\n\u001b[1;32m    123\u001b[0m \u001b[38;5;28;01mif\u001b[39;00m cursor_factory \u001b[38;5;129;01mis\u001b[39;00m \u001b[38;5;129;01mnot\u001b[39;00m \u001b[38;5;28;01mNone\u001b[39;00m:\n\u001b[1;32m    124\u001b[0m     conn\u001b[38;5;241m.\u001b[39mcursor_factory \u001b[38;5;241m=\u001b[39m cursor_factory\n",
      "\u001b[0;31mOperationalError\u001b[0m: connection to server at \"34.27.240.213\", port 5432 failed: Connection timed out\n\tIs the server running on that host and accepting TCP/IP connections?\n"
     ]
    }
   ],
   "source": [
    "f()"
   ]
  },
  {
   "cell_type": "code",
   "execution_count": 18,
   "id": "a6032b6f-9ecf-4503-9be0-9e6200c7a15d",
   "metadata": {},
   "outputs": [
    {
     "data": {
      "text/plain": [
       "{'route': '/PM2_5_Kriging',\n",
       " 'view_func': <function __main__.f(interp_name='PM2_5_Kriging')>}"
      ]
     },
     "execution_count": 18,
     "metadata": {},
     "output_type": "execute_result"
    }
   ],
   "source": [
    "# Endpoint List\n",
    "\n",
    "    \n",
    "endpoint = {\n",
    "            \"route\": \"/\"+interp_name,\n",
    "            \"view_func\": f\n",
    "            }\n",
    "\n",
    "\n",
    "endpoint\n",
    "\n",
    "# # Add to Flask App\n",
    "\n",
    "# for endpoint in endpoint_list:\n",
    "#     app.add_url_rule(endpoint['route'], view_func=endpoint['view_func'])"
   ]
  },
  {
   "cell_type": "markdown",
   "id": "9c42182f-7f49-4b81-9e39-3ba8f40b5a9c",
   "metadata": {},
   "source": [
    "# Iterate"
   ]
  },
  {
   "cell_type": "code",
   "execution_count": 14,
   "id": "569d2567-807b-44d3-9dcc-2e3cdfc2be4e",
   "metadata": {},
   "outputs": [
    {
     "data": {
      "text/plain": [
       "[{'route': '/PM2_5_Kriging',\n",
       "  'view_func': <function __main__.f(interp_name='PM2_5_Kriging')>},\n",
       " {'route': '/Temp_Kriging',\n",
       "  'view_func': <function __main__.f(interp_name='Temp_Kriging')>},\n",
       " {'route': '/Elevation_Kriging',\n",
       "  'view_func': <function __main__.f(interp_name='Elevation_Kriging')>},\n",
       " {'route': '/PM2_5_Temp_Errors',\n",
       "  'view_func': <function __main__.f(interp_name='PM2_5_Temp_Errors')>},\n",
       " {'route': '/Elevation_Errors',\n",
       "  'view_func': <function __main__.f(interp_name='Elevation_Errors')>}]"
      ]
     },
     "execution_count": 14,
     "metadata": {},
     "output_type": "execute_result"
    }
   ],
   "source": [
    "interp_names = ['PM2_5_Kriging', 'Temp_Kriging', 'Elevation_Kriging', \n",
    "                'PM2_5_Temp_Errors', 'Elevation_Errors']\n",
    "\n",
    "endpoint_list = []\n",
    "\n",
    "for i, interp_name in enumerate(interp_names): # Table Names\n",
    "\n",
    "    ## Define the functions iteratively\n",
    "    ## See here\n",
    "    ## https://stackoverflow.com/questions/3431676/creating-functions-or-lambdas-in-a-loop-or-comprehension\n",
    "    \n",
    "    def f(interp_name=interp_name):\n",
    "        \n",
    "        conn = psycopg2.connect(**pg_connection_dict)\n",
    "\n",
    "        # Create json cursor\n",
    "        cur = conn.cursor(cursor_factory = extras.RealDictCursor)\n",
    "\n",
    "        # Get the example as a Geojson\n",
    "        cmd = f\"\"\"SELECT json_build_object(\n",
    "    'type', 'FeatureCollection',\n",
    "    'features', json_agg(ST_AsGeoJSON({interp_name}.*)::json)\n",
    "    ) FROM {interp_name};\"\"\"\n",
    "\n",
    "        cur.execute(cmd) # Execute\n",
    "\n",
    "        conn.commit() # Committ command\n",
    "\n",
    "        geojson = json.loads(json.dumps(cur.fetchall()))[0][\"json_build_object\"] # Unpack the response...\n",
    "        \n",
    "        ## ^ That's a dictionary\n",
    "\n",
    "        # Close connection\n",
    "        cur.close()\n",
    "        conn.close()\n",
    "\n",
    "        return geojson\n",
    "        \n",
    "    # Iteratively format endpoint dictionary \n",
    "    # FLASK APP This hack from:\n",
    "    # Oooh, I lost the link...\n",
    "    \n",
    "    endpoint = {\n",
    "                \"route\": \"/\"+interp_name,\n",
    "                \"view_func\": f\n",
    "                }\n",
    "    \n",
    "    endpoint_list.append(endpoint)\n",
    "    \n",
    "endpoint_list"
   ]
  }
 ],
 "metadata": {
  "kernelspec": {
   "display_name": "Python 3 (ipykernel)",
   "language": "python",
   "name": "python3"
  },
  "language_info": {
   "codemirror_mode": {
    "name": "ipython",
    "version": 3
   },
   "file_extension": ".py",
   "mimetype": "text/x-python",
   "name": "python",
   "nbconvert_exporter": "python",
   "pygments_lexer": "ipython3",
   "version": "3.10.4"
  }
 },
 "nbformat": 4,
 "nbformat_minor": 5
}
